{
 "cells": [
  {
   "cell_type": "code",
   "execution_count": 1,
   "metadata": {
    "collapsed": false
   },
   "outputs": [],
   "source": [
    "import pandas as pd\n",
    "import statsmodels.api as sm\n",
    "import pylab as pl\n",
    "import numpy as np\n",
    "import matplotlib.pyplot as plt\n",
    "\n",
    "%matplotlib inline"
   ]
  },
  {
   "cell_type": "code",
   "execution_count": 2,
   "metadata": {
    "collapsed": false
   },
   "outputs": [],
   "source": [
    "df = pd.read_csv(\"leaderboards_7308448.csv\")"
   ]
  },
  {
   "cell_type": "code",
   "execution_count": 3,
   "metadata": {
    "collapsed": false
   },
   "outputs": [
    {
     "data": {
      "text/html": [
       "<div style=\"max-height:1000px;max-width:1500px;overflow:auto;\">\n",
       "<table border=\"1\" class=\"dataframe\">\n",
       "  <thead>\n",
       "    <tr style=\"text-align: right;\">\n",
       "      <th></th>\n",
       "      <th>athlete_name</th>\n",
       "      <th>rank</th>\n",
       "      <th>athlete_gender</th>\n",
       "      <th>start_date_local</th>\n",
       "      <th>distance</th>\n",
       "      <th>average_watts</th>\n",
       "      <th>moving_time</th>\n",
       "      <th>elapsed_time</th>\n",
       "      <th>average_hr</th>\n",
       "    </tr>\n",
       "  </thead>\n",
       "  <tbody>\n",
       "    <tr>\n",
       "      <th>0</th>\n",
       "      <td>The Todd</td>\n",
       "      <td>1</td>\n",
       "      <td>M</td>\n",
       "      <td>2015-03-29T15:24:15Z</td>\n",
       "      <td>489.1</td>\n",
       "      <td>NaN</td>\n",
       "      <td>20</td>\n",
       "      <td>20</td>\n",
       "      <td>NaN</td>\n",
       "    </tr>\n",
       "    <tr>\n",
       "      <th>1</th>\n",
       "      <td>Steve G</td>\n",
       "      <td>2</td>\n",
       "      <td>M</td>\n",
       "      <td>2011-10-11T18:35:58Z</td>\n",
       "      <td>449.4</td>\n",
       "      <td>521.0</td>\n",
       "      <td>33</td>\n",
       "      <td>33</td>\n",
       "      <td>185.5</td>\n",
       "    </tr>\n",
       "    <tr>\n",
       "      <th>2</th>\n",
       "      <td>Peter Cracknell</td>\n",
       "      <td>2</td>\n",
       "      <td>M</td>\n",
       "      <td>2012-05-06T13:39:11Z</td>\n",
       "      <td>491.8</td>\n",
       "      <td>572.2</td>\n",
       "      <td>33</td>\n",
       "      <td>33</td>\n",
       "      <td>NaN</td>\n",
       "    </tr>\n",
       "    <tr>\n",
       "      <th>3</th>\n",
       "      <td>Thomas De Gendt</td>\n",
       "      <td>2</td>\n",
       "      <td>M</td>\n",
       "      <td>2013-05-18T23:35:53Z</td>\n",
       "      <td>492.2</td>\n",
       "      <td>471.7</td>\n",
       "      <td>33</td>\n",
       "      <td>33</td>\n",
       "      <td>166.0</td>\n",
       "    </tr>\n",
       "    <tr>\n",
       "      <th>4</th>\n",
       "      <td>Jason Lokkesmoe</td>\n",
       "      <td>2</td>\n",
       "      <td>M</td>\n",
       "      <td>2013-08-26T17:11:58Z</td>\n",
       "      <td>426.9</td>\n",
       "      <td>508.1</td>\n",
       "      <td>33</td>\n",
       "      <td>33</td>\n",
       "      <td>NaN</td>\n",
       "    </tr>\n",
       "  </tbody>\n",
       "</table>\n",
       "</div>"
      ],
      "text/plain": [
       "      athlete_name  rank athlete_gender      start_date_local  distance  \\\n",
       "0         The Todd     1              M  2015-03-29T15:24:15Z     489.1   \n",
       "1          Steve G     2              M  2011-10-11T18:35:58Z     449.4   \n",
       "2  Peter Cracknell     2              M  2012-05-06T13:39:11Z     491.8   \n",
       "3  Thomas De Gendt     2              M  2013-05-18T23:35:53Z     492.2   \n",
       "4  Jason Lokkesmoe     2              M  2013-08-26T17:11:58Z     426.9   \n",
       "\n",
       "   average_watts  moving_time  elapsed_time  average_hr  \n",
       "0            NaN           20            20         NaN  \n",
       "1          521.0           33            33       185.5  \n",
       "2          572.2           33            33         NaN  \n",
       "3          471.7           33            33       166.0  \n",
       "4          508.1           33            33         NaN  "
      ]
     },
     "execution_count": 3,
     "metadata": {},
     "output_type": "execute_result"
    }
   ],
   "source": [
    "df.head()"
   ]
  },
  {
   "cell_type": "code",
   "execution_count": 4,
   "metadata": {
    "collapsed": false
   },
   "outputs": [
    {
     "data": {
      "text/html": [
       "<div style=\"max-height:1000px;max-width:1500px;overflow:auto;\">\n",
       "<table border=\"1\" class=\"dataframe\">\n",
       "  <thead>\n",
       "    <tr style=\"text-align: right;\">\n",
       "      <th></th>\n",
       "      <th>rank</th>\n",
       "      <th>distance</th>\n",
       "      <th>average_watts</th>\n",
       "      <th>moving_time</th>\n",
       "      <th>elapsed_time</th>\n",
       "      <th>average_hr</th>\n",
       "    </tr>\n",
       "  </thead>\n",
       "  <tbody>\n",
       "    <tr>\n",
       "      <th>count</th>\n",
       "      <td>22853.000000</td>\n",
       "      <td>22853.000000</td>\n",
       "      <td>19526.000000</td>\n",
       "      <td>22853.000000</td>\n",
       "      <td>22853.000000</td>\n",
       "      <td>5836.000000</td>\n",
       "    </tr>\n",
       "    <tr>\n",
       "      <th>mean</th>\n",
       "      <td>11144.013084</td>\n",
       "      <td>487.918050</td>\n",
       "      <td>188.894397</td>\n",
       "      <td>62.172100</td>\n",
       "      <td>62.865182</td>\n",
       "      <td>141.774760</td>\n",
       "    </tr>\n",
       "    <tr>\n",
       "      <th>std</th>\n",
       "      <td>6657.494442</td>\n",
       "      <td>20.064151</td>\n",
       "      <td>76.938817</td>\n",
       "      <td>14.777227</td>\n",
       "      <td>22.609242</td>\n",
       "      <td>22.359717</td>\n",
       "    </tr>\n",
       "    <tr>\n",
       "      <th>min</th>\n",
       "      <td>1.000000</td>\n",
       "      <td>0.000000</td>\n",
       "      <td>0.000000</td>\n",
       "      <td>0.000000</td>\n",
       "      <td>20.000000</td>\n",
       "      <td>0.000000</td>\n",
       "    </tr>\n",
       "    <tr>\n",
       "      <th>25%</th>\n",
       "      <td>5336.000000</td>\n",
       "      <td>483.500000</td>\n",
       "      <td>135.900000</td>\n",
       "      <td>53.000000</td>\n",
       "      <td>53.000000</td>\n",
       "      <td>128.600000</td>\n",
       "    </tr>\n",
       "    <tr>\n",
       "      <th>50%</th>\n",
       "      <td>11261.000000</td>\n",
       "      <td>490.400000</td>\n",
       "      <td>178.950000</td>\n",
       "      <td>60.000000</td>\n",
       "      <td>60.000000</td>\n",
       "      <td>143.150000</td>\n",
       "    </tr>\n",
       "    <tr>\n",
       "      <th>75%</th>\n",
       "      <td>16966.000000</td>\n",
       "      <td>496.500000</td>\n",
       "      <td>229.900000</td>\n",
       "      <td>68.000000</td>\n",
       "      <td>68.000000</td>\n",
       "      <td>157.000000</td>\n",
       "    </tr>\n",
       "    <tr>\n",
       "      <th>max</th>\n",
       "      <td>22875.000000</td>\n",
       "      <td>772.300000</td>\n",
       "      <td>966.500000</td>\n",
       "      <td>352.000000</td>\n",
       "      <td>1187.000000</td>\n",
       "      <td>226.200000</td>\n",
       "    </tr>\n",
       "  </tbody>\n",
       "</table>\n",
       "</div>"
      ],
      "text/plain": [
       "               rank      distance  average_watts   moving_time  elapsed_time  \\\n",
       "count  22853.000000  22853.000000   19526.000000  22853.000000  22853.000000   \n",
       "mean   11144.013084    487.918050     188.894397     62.172100     62.865182   \n",
       "std     6657.494442     20.064151      76.938817     14.777227     22.609242   \n",
       "min        1.000000      0.000000       0.000000      0.000000     20.000000   \n",
       "25%     5336.000000    483.500000     135.900000     53.000000     53.000000   \n",
       "50%    11261.000000    490.400000     178.950000     60.000000     60.000000   \n",
       "75%    16966.000000    496.500000     229.900000     68.000000     68.000000   \n",
       "max    22875.000000    772.300000     966.500000    352.000000   1187.000000   \n",
       "\n",
       "        average_hr  \n",
       "count  5836.000000  \n",
       "mean    141.774760  \n",
       "std      22.359717  \n",
       "min       0.000000  \n",
       "25%     128.600000  \n",
       "50%     143.150000  \n",
       "75%     157.000000  \n",
       "max     226.200000  "
      ]
     },
     "execution_count": 4,
     "metadata": {},
     "output_type": "execute_result"
    }
   ],
   "source": [
    "df.describe()"
   ]
  },
  {
   "cell_type": "code",
   "execution_count": 5,
   "metadata": {
    "collapsed": false
   },
   "outputs": [
    {
     "data": {
      "text/plain": [
       "<matplotlib.axes._subplots.AxesSubplot at 0x10ba98f90>"
      ]
     },
     "execution_count": 5,
     "metadata": {},
     "output_type": "execute_result"
    },
    {
     "data": {
      "image/png": "[encoded data removed]",
      "text/plain": [
       "<matplotlib.figure.Figure at 0x10684c410>"
      ]
     },
     "metadata": {},
     "output_type": "display_data"
    }
   ],
   "source": [
    "plt.figure();\n",
    "df['moving_time'].plot()"
   ]
  },
  {
   "cell_type": "code",
   "execution_count": 6,
   "metadata": {
    "collapsed": false
   },
   "outputs": [],
   "source": [
    "df[\"speed\"] = (df[\"distance\"] / (1609.344 * df[\"moving_time\"])) * 3600"
   ]
  },
  {
   "cell_type": "code",
   "execution_count": 7,
   "metadata": {
    "collapsed": false
   },
   "outputs": [
    {
     "data": {
      "text/html": [
       "<div style=\"max-height:1000px;max-width:1500px;overflow:auto;\">\n",
       "<table border=\"1\" class=\"dataframe\">\n",
       "  <thead>\n",
       "    <tr style=\"text-align: right;\">\n",
       "      <th></th>\n",
       "      <th>athlete_name</th>\n",
       "      <th>rank</th>\n",
       "      <th>athlete_gender</th>\n",
       "      <th>start_date_local</th>\n",
       "      <th>distance</th>\n",
       "      <th>average_watts</th>\n",
       "      <th>moving_time</th>\n",
       "      <th>elapsed_time</th>\n",
       "      <th>average_hr</th>\n",
       "      <th>speed</th>\n",
       "    </tr>\n",
       "  </thead>\n",
       "  <tbody>\n",
       "    <tr>\n",
       "      <th>0</th>\n",
       "      <td>The Todd</td>\n",
       "      <td>1</td>\n",
       "      <td>M</td>\n",
       "      <td>2015-03-29T15:24:15Z</td>\n",
       "      <td>489.1</td>\n",
       "      <td>NaN</td>\n",
       "      <td>20</td>\n",
       "      <td>20</td>\n",
       "      <td>NaN</td>\n",
       "      <td>54.704277</td>\n",
       "    </tr>\n",
       "    <tr>\n",
       "      <th>1</th>\n",
       "      <td>Steve G</td>\n",
       "      <td>2</td>\n",
       "      <td>M</td>\n",
       "      <td>2011-10-11T18:35:58Z</td>\n",
       "      <td>449.4</td>\n",
       "      <td>521.0</td>\n",
       "      <td>33</td>\n",
       "      <td>33</td>\n",
       "      <td>185.5</td>\n",
       "      <td>30.463005</td>\n",
       "    </tr>\n",
       "    <tr>\n",
       "      <th>2</th>\n",
       "      <td>Peter Cracknell</td>\n",
       "      <td>2</td>\n",
       "      <td>M</td>\n",
       "      <td>2012-05-06T13:39:11Z</td>\n",
       "      <td>491.8</td>\n",
       "      <td>572.2</td>\n",
       "      <td>33</td>\n",
       "      <td>33</td>\n",
       "      <td>NaN</td>\n",
       "      <td>33.337129</td>\n",
       "    </tr>\n",
       "    <tr>\n",
       "      <th>3</th>\n",
       "      <td>Thomas De Gendt</td>\n",
       "      <td>2</td>\n",
       "      <td>M</td>\n",
       "      <td>2013-05-18T23:35:53Z</td>\n",
       "      <td>492.2</td>\n",
       "      <td>471.7</td>\n",
       "      <td>33</td>\n",
       "      <td>33</td>\n",
       "      <td>166.0</td>\n",
       "      <td>33.364244</td>\n",
       "    </tr>\n",
       "    <tr>\n",
       "      <th>4</th>\n",
       "      <td>Jason Lokkesmoe</td>\n",
       "      <td>2</td>\n",
       "      <td>M</td>\n",
       "      <td>2013-08-26T17:11:58Z</td>\n",
       "      <td>426.9</td>\n",
       "      <td>508.1</td>\n",
       "      <td>33</td>\n",
       "      <td>33</td>\n",
       "      <td>NaN</td>\n",
       "      <td>28.937821</td>\n",
       "    </tr>\n",
       "    <tr>\n",
       "      <th>5</th>\n",
       "      <td>Scott Harrington</td>\n",
       "      <td>6</td>\n",
       "      <td>M</td>\n",
       "      <td>2009-11-26T22:31:48Z</td>\n",
       "      <td>399.2</td>\n",
       "      <td>NaN</td>\n",
       "      <td>34</td>\n",
       "      <td>34</td>\n",
       "      <td>NaN</td>\n",
       "      <td>26.264264</td>\n",
       "    </tr>\n",
       "    <tr>\n",
       "      <th>6</th>\n",
       "      <td>Bruce Prescott</td>\n",
       "      <td>6</td>\n",
       "      <td>M</td>\n",
       "      <td>2011-02-21T10:07:51Z</td>\n",
       "      <td>417.6</td>\n",
       "      <td>300.8</td>\n",
       "      <td>34</td>\n",
       "      <td>34</td>\n",
       "      <td>NaN</td>\n",
       "      <td>27.474841</td>\n",
       "    </tr>\n",
       "    <tr>\n",
       "      <th>7</th>\n",
       "      <td>Ben Jacques-Maynes</td>\n",
       "      <td>6</td>\n",
       "      <td>M</td>\n",
       "      <td>2013-05-19T08:35:55Z</td>\n",
       "      <td>461.7</td>\n",
       "      <td>502.2</td>\n",
       "      <td>34</td>\n",
       "      <td>34</td>\n",
       "      <td>NaN</td>\n",
       "      <td>30.376279</td>\n",
       "    </tr>\n",
       "    <tr>\n",
       "      <th>8</th>\n",
       "      <td>James Stemper</td>\n",
       "      <td>6</td>\n",
       "      <td>M</td>\n",
       "      <td>2013-05-19T08:35:54Z</td>\n",
       "      <td>480.2</td>\n",
       "      <td>554.1</td>\n",
       "      <td>34</td>\n",
       "      <td>34</td>\n",
       "      <td>NaN</td>\n",
       "      <td>31.593436</td>\n",
       "    </tr>\n",
       "    <tr>\n",
       "      <th>9</th>\n",
       "      <td>Fred  Haise</td>\n",
       "      <td>6</td>\n",
       "      <td>M</td>\n",
       "      <td>2013-05-19T08:35:59Z</td>\n",
       "      <td>462.4</td>\n",
       "      <td>548.0</td>\n",
       "      <td>34</td>\n",
       "      <td>34</td>\n",
       "      <td>NaN</td>\n",
       "      <td>30.422334</td>\n",
       "    </tr>\n",
       "  </tbody>\n",
       "</table>\n",
       "</div>"
      ],
      "text/plain": [
       "         athlete_name  rank athlete_gender      start_date_local  distance  \\\n",
       "0            The Todd     1              M  2015-03-29T15:24:15Z     489.1   \n",
       "1             Steve G     2              M  2011-10-11T18:35:58Z     449.4   \n",
       "2     Peter Cracknell     2              M  2012-05-06T13:39:11Z     491.8   \n",
       "3     Thomas De Gendt     2              M  2013-05-18T23:35:53Z     492.2   \n",
       "4     Jason Lokkesmoe     2              M  2013-08-26T17:11:58Z     426.9   \n",
       "5    Scott Harrington     6              M  2009-11-26T22:31:48Z     399.2   \n",
       "6      Bruce Prescott     6              M  2011-02-21T10:07:51Z     417.6   \n",
       "7  Ben Jacques-Maynes     6              M  2013-05-19T08:35:55Z     461.7   \n",
       "8       James Stemper     6              M  2013-05-19T08:35:54Z     480.2   \n",
       "9        Fred  Haise      6              M  2013-05-19T08:35:59Z     462.4   \n",
       "\n",
       "   average_watts  moving_time  elapsed_time  average_hr      speed  \n",
       "0            NaN           20            20         NaN  54.704277  \n",
       "1          521.0           33            33       185.5  30.463005  \n",
       "2          572.2           33            33         NaN  33.337129  \n",
       "3          471.7           33            33       166.0  33.364244  \n",
       "4          508.1           33            33         NaN  28.937821  \n",
       "5            NaN           34            34         NaN  26.264264  \n",
       "6          300.8           34            34         NaN  27.474841  \n",
       "7          502.2           34            34         NaN  30.376279  \n",
       "8          554.1           34            34         NaN  31.593436  \n",
       "9          548.0           34            34         NaN  30.422334  "
      ]
     },
     "execution_count": 7,
     "metadata": {},
     "output_type": "execute_result"
    }
   ],
   "source": [
    "df[0:10]"
   ]
  },
  {
   "cell_type": "code",
   "execution_count": 8,
   "metadata": {
    "collapsed": false
   },
   "outputs": [
    {
     "data": {
      "text/plain": [
       "<matplotlib.axes._subplots.AxesSubplot at 0x10c934b10>"
      ]
     },
     "execution_count": 8,
     "metadata": {},
     "output_type": "execute_result"
    },
    {
     "data": {
      "image/png": "[encoded data removed]",
      "text/plain": [
       "<matplotlib.figure.Figure at 0x10bf1e410>"
      ]
     },
     "metadata": {},
     "output_type": "display_data"
    }
   ],
   "source": [
    "df['speed'].plot()"
   ]
  },
  {
   "cell_type": "code",
   "execution_count": 9,
   "metadata": {
    "collapsed": false
   },
   "outputs": [
    {
     "data": {
      "text/html": [
       "<div style=\"max-height:1000px;max-width:1500px;overflow:auto;\">\n",
       "<table border=\"1\" class=\"dataframe\">\n",
       "  <thead>\n",
       "    <tr style=\"text-align: right;\">\n",
       "      <th></th>\n",
       "      <th>athlete_name</th>\n",
       "      <th>rank</th>\n",
       "      <th>athlete_gender</th>\n",
       "      <th>start_date_local</th>\n",
       "      <th>distance</th>\n",
       "      <th>average_watts</th>\n",
       "      <th>moving_time</th>\n",
       "      <th>elapsed_time</th>\n",
       "      <th>average_hr</th>\n",
       "      <th>speed</th>\n",
       "      <th>male</th>\n",
       "    </tr>\n",
       "  </thead>\n",
       "  <tbody>\n",
       "    <tr>\n",
       "      <th>0</th>\n",
       "      <td>The Todd</td>\n",
       "      <td>1</td>\n",
       "      <td>M</td>\n",
       "      <td>2015-03-29T15:24:15Z</td>\n",
       "      <td>489.1</td>\n",
       "      <td>NaN</td>\n",
       "      <td>20</td>\n",
       "      <td>20</td>\n",
       "      <td>NaN</td>\n",
       "      <td>54.704277</td>\n",
       "      <td>1</td>\n",
       "    </tr>\n",
       "    <tr>\n",
       "      <th>1</th>\n",
       "      <td>Steve G</td>\n",
       "      <td>2</td>\n",
       "      <td>M</td>\n",
       "      <td>2011-10-11T18:35:58Z</td>\n",
       "      <td>449.4</td>\n",
       "      <td>521.0</td>\n",
       "      <td>33</td>\n",
       "      <td>33</td>\n",
       "      <td>185.5</td>\n",
       "      <td>30.463005</td>\n",
       "      <td>1</td>\n",
       "    </tr>\n",
       "    <tr>\n",
       "      <th>2</th>\n",
       "      <td>Peter Cracknell</td>\n",
       "      <td>2</td>\n",
       "      <td>M</td>\n",
       "      <td>2012-05-06T13:39:11Z</td>\n",
       "      <td>491.8</td>\n",
       "      <td>572.2</td>\n",
       "      <td>33</td>\n",
       "      <td>33</td>\n",
       "      <td>NaN</td>\n",
       "      <td>33.337129</td>\n",
       "      <td>1</td>\n",
       "    </tr>\n",
       "    <tr>\n",
       "      <th>3</th>\n",
       "      <td>Thomas De Gendt</td>\n",
       "      <td>2</td>\n",
       "      <td>M</td>\n",
       "      <td>2013-05-18T23:35:53Z</td>\n",
       "      <td>492.2</td>\n",
       "      <td>471.7</td>\n",
       "      <td>33</td>\n",
       "      <td>33</td>\n",
       "      <td>166.0</td>\n",
       "      <td>33.364244</td>\n",
       "      <td>1</td>\n",
       "    </tr>\n",
       "    <tr>\n",
       "      <th>4</th>\n",
       "      <td>Jason Lokkesmoe</td>\n",
       "      <td>2</td>\n",
       "      <td>M</td>\n",
       "      <td>2013-08-26T17:11:58Z</td>\n",
       "      <td>426.9</td>\n",
       "      <td>508.1</td>\n",
       "      <td>33</td>\n",
       "      <td>33</td>\n",
       "      <td>NaN</td>\n",
       "      <td>28.937821</td>\n",
       "      <td>1</td>\n",
       "    </tr>\n",
       "    <tr>\n",
       "      <th>5</th>\n",
       "      <td>Scott Harrington</td>\n",
       "      <td>6</td>\n",
       "      <td>M</td>\n",
       "      <td>2009-11-26T22:31:48Z</td>\n",
       "      <td>399.2</td>\n",
       "      <td>NaN</td>\n",
       "      <td>34</td>\n",
       "      <td>34</td>\n",
       "      <td>NaN</td>\n",
       "      <td>26.264264</td>\n",
       "      <td>1</td>\n",
       "    </tr>\n",
       "    <tr>\n",
       "      <th>6</th>\n",
       "      <td>Bruce Prescott</td>\n",
       "      <td>6</td>\n",
       "      <td>M</td>\n",
       "      <td>2011-02-21T10:07:51Z</td>\n",
       "      <td>417.6</td>\n",
       "      <td>300.8</td>\n",
       "      <td>34</td>\n",
       "      <td>34</td>\n",
       "      <td>NaN</td>\n",
       "      <td>27.474841</td>\n",
       "      <td>1</td>\n",
       "    </tr>\n",
       "    <tr>\n",
       "      <th>7</th>\n",
       "      <td>Ben Jacques-Maynes</td>\n",
       "      <td>6</td>\n",
       "      <td>M</td>\n",
       "      <td>2013-05-19T08:35:55Z</td>\n",
       "      <td>461.7</td>\n",
       "      <td>502.2</td>\n",
       "      <td>34</td>\n",
       "      <td>34</td>\n",
       "      <td>NaN</td>\n",
       "      <td>30.376279</td>\n",
       "      <td>1</td>\n",
       "    </tr>\n",
       "    <tr>\n",
       "      <th>8</th>\n",
       "      <td>James Stemper</td>\n",
       "      <td>6</td>\n",
       "      <td>M</td>\n",
       "      <td>2013-05-19T08:35:54Z</td>\n",
       "      <td>480.2</td>\n",
       "      <td>554.1</td>\n",
       "      <td>34</td>\n",
       "      <td>34</td>\n",
       "      <td>NaN</td>\n",
       "      <td>31.593436</td>\n",
       "      <td>1</td>\n",
       "    </tr>\n",
       "    <tr>\n",
       "      <th>9</th>\n",
       "      <td>Fred  Haise</td>\n",
       "      <td>6</td>\n",
       "      <td>M</td>\n",
       "      <td>2013-05-19T08:35:59Z</td>\n",
       "      <td>462.4</td>\n",
       "      <td>548.0</td>\n",
       "      <td>34</td>\n",
       "      <td>34</td>\n",
       "      <td>NaN</td>\n",
       "      <td>30.422334</td>\n",
       "      <td>1</td>\n",
       "    </tr>\n",
       "  </tbody>\n",
       "</table>\n",
       "</div>"
      ],
      "text/plain": [
       "         athlete_name  rank athlete_gender      start_date_local  distance  \\\n",
       "0            The Todd     1              M  2015-03-29T15:24:15Z     489.1   \n",
       "1             Steve G     2              M  2011-10-11T18:35:58Z     449.4   \n",
       "2     Peter Cracknell     2              M  2012-05-06T13:39:11Z     491.8   \n",
       "3     Thomas De Gendt     2              M  2013-05-18T23:35:53Z     492.2   \n",
       "4     Jason Lokkesmoe     2              M  2013-08-26T17:11:58Z     426.9   \n",
       "5    Scott Harrington     6              M  2009-11-26T22:31:48Z     399.2   \n",
       "6      Bruce Prescott     6              M  2011-02-21T10:07:51Z     417.6   \n",
       "7  Ben Jacques-Maynes     6              M  2013-05-19T08:35:55Z     461.7   \n",
       "8       James Stemper     6              M  2013-05-19T08:35:54Z     480.2   \n",
       "9        Fred  Haise      6              M  2013-05-19T08:35:59Z     462.4   \n",
       "\n",
       "   average_watts  moving_time  elapsed_time  average_hr      speed  male  \n",
       "0            NaN           20            20         NaN  54.704277     1  \n",
       "1          521.0           33            33       185.5  30.463005     1  \n",
       "2          572.2           33            33         NaN  33.337129     1  \n",
       "3          471.7           33            33       166.0  33.364244     1  \n",
       "4          508.1           33            33         NaN  28.937821     1  \n",
       "5            NaN           34            34         NaN  26.264264     1  \n",
       "6          300.8           34            34         NaN  27.474841     1  \n",
       "7          502.2           34            34         NaN  30.376279     1  \n",
       "8          554.1           34            34         NaN  31.593436     1  \n",
       "9          548.0           34            34         NaN  30.422334     1  "
      ]
     },
     "execution_count": 9,
     "metadata": {},
     "output_type": "execute_result"
    }
   ],
   "source": [
    "df[\"male\"] = np.where(df['athlete_gender']=='M', 1, 0)\n",
    "df[0:10]"
   ]
  },
  {
   "cell_type": "code",
   "execution_count": 10,
   "metadata": {
    "collapsed": false
   },
   "outputs": [
    {
     "data": {
      "text/plain": [
       "<matplotlib.axes._subplots.AxesSubplot at 0x10c928f50>"
      ]
     },
     "execution_count": 10,
     "metadata": {},
     "output_type": "execute_result"
    },
    {
     "data": {
      "image/png": "[encoded data removed]",
      "text/plain": [
       "<matplotlib.figure.Figure at 0x10c628990>"
      ]
     },
     "metadata": {},
     "output_type": "display_data"
    }
   ],
   "source": [
    "df.plot(kind=\"hexbin\", x=\"rank\", y=\"average_watts\", gridsize=40)"
   ]
  },
  {
   "cell_type": "code",
   "execution_count": 11,
   "metadata": {
    "collapsed": false
   },
   "outputs": [
    {
     "data": {
      "image/png": "[encoded data removed]",
      "text/plain": [
       "<matplotlib.figure.Figure at 0x10bd80f50>"
      ]
     },
     "metadata": {},
     "output_type": "display_data"
    }
   ],
   "source": [
    "df1 = df[[\"athlete_gender\",\"speed\"]].boxplot(by=\"athlete_gender\", fontsize=16, figsize=(20,10))"
   ]
  },
  {
   "cell_type": "code",
   "execution_count": 12,
   "metadata": {
    "collapsed": false
   },
   "outputs": [
    {
     "data": {
      "text/plain": [
       "array([[ 489.1,   20. ],\n",
       "       [ 449.4,   33. ],\n",
       "       [ 491.8,   33. ],\n",
       "       ..., \n",
       "       [ 530.6,  130. ],\n",
       "       [ 517.6,  148. ],\n",
       "       [ 772.3,  116. ]])"
      ]
     },
     "execution_count": 12,
     "metadata": {},
     "output_type": "execute_result"
    }
   ],
   "source": [
    "df1 = df[[\"distance\", \"moving_time\"]].values\n",
    "df1"
   ]
  },
  {
   "cell_type": "code",
   "execution_count": 13,
   "metadata": {
    "collapsed": false
   },
   "outputs": [
    {
     "name": "stdout",
     "output_type": "stream",
     "text": [
      "@@@ Number of estimated clusters : 6\n"
     ]
    }
   ],
   "source": [
    "from sklearn.cluster import MeanShift, estimate_bandwidth\n",
    "from sklearn.datasets.samples_generator import make_blobs\n",
    "\n",
    "###############################################################################\n",
    "# Generate sample data\n",
    "X, _ = make_blobs(n_samples=500, n_features=2, centers=df1, cluster_std=0.6)\n",
    "\n",
    "###############################################################################\n",
    "# Compute clustering with MeanShift\n",
    "\n",
    "# The following bandwidth can be automatically detected using\n",
    "bandwidth = estimate_bandwidth(X, quantile=0.2, n_samples=500)\n",
    "\n",
    "ms = MeanShift(bandwidth=bandwidth, bin_seeding=True)\n",
    "ms.fit(X)\n",
    "labels = ms.labels_\n",
    "cluster_centers = ms.cluster_centers_\n",
    "\n",
    "labels_unique = np.unique(labels)\n",
    "n_clusters_ = len(labels_unique)\n",
    "\n",
    "print(\"@@@ Number of estimated clusters : %d\" % n_clusters_)\n"
   ]
  },
  {
   "cell_type": "code",
   "execution_count": 14,
   "metadata": {
    "collapsed": false
   },
   "outputs": [
    {
     "data": {
      "image/png": "[encoded data removed]",
      "text/plain": [
       "<matplotlib.figure.Figure at 0x10c379210>"
      ]
     },
     "metadata": {},
     "output_type": "display_data"
    }
   ],
   "source": [
    "###############################################################################\n",
    "# Plot result\n",
    "import matplotlib.pyplot as plt\n",
    "from itertools import cycle\n",
    "\n",
    "plt.figure(1)\n",
    "plt.clf()\n",
    "\n",
    "colors = cycle('bgrcmykbgrcmykbgrcmykbgrcmyk')\n",
    "for k, col in zip(range(n_clusters_), colors):\n",
    "    my_members = labels == k\n",
    "    cluster_center = cluster_centers[k]\n",
    "    plt.plot(X[my_members, 0], X[my_members, 1], col + '.')\n",
    "    plt.plot(cluster_center[0], cluster_center[1], 'o', markerfacecolor=col,\n",
    "             markeredgecolor='k', markersize=14)\n",
    "plt.title('Estimated number of clusters: %d' % n_clusters_)\n",
    "plt.show()"
   ]
  },
  {
   "cell_type": "code",
   "execution_count": null,
   "metadata": {
    "collapsed": false
   },
   "outputs": [],
   "source": []
  }
 ],
 "metadata": {
  "kernelspec": {
   "display_name": "Python 2",
   "language": "python",
   "name": "python2"
  },
  "language_info": {
   "codemirror_mode": {
    "name": "ipython",
    "version": 2
   },
   "file_extension": ".py",
   "mimetype": "text/x-python",
   "name": "python",
   "nbconvert_exporter": "python",
   "pygments_lexer": "ipython2",
   "version": "2.7.9"
  }
 },
 "nbformat": 4,
 "nbformat_minor": 0
}
